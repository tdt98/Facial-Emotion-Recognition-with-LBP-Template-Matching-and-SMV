{
 "cells": [
  {
   "cell_type": "code",
   "execution_count": 52,
   "metadata": {},
   "outputs": [],
   "source": [
    "import os\n",
    "import operator\n",
    "import cv2 \n",
    "import numpy as np\n",
    "from matplotlib import pyplot as plt\n",
    "from sklearn.model_selection import KFold\n",
    "lbph_bin = [-1,0, 1, 2, 3, 4, 6, 7, 8, 12, 14, 15, 16, 24, 28, 30, 31, 32, 48, 56, 60, 62, 63, 64, 96, 112, 120, 124, 126, 127, 128, 129, 131, 135, 143, 159, 191, 192, 193, 195, 199, 207, 223, 224, 225, 227, 231, 239, 240, 241, 243, 247, 248, 249, 251, 252, 253, 254,255]\n",
    "bins_number = 59\n",
    "height =245\n",
    "width = 210\n",
    "lbph_length = 2478\n",
    "chisquare_weight = [[0,1,1,1,1,0],\n",
    "                    [2,2,1,1,2,2],\n",
    "                    [2,4,4,4,4,2],\n",
    "                    [0,1,0,0,1,0],\n",
    "                    [1,1,2,2,1,1],\n",
    "                    [1,2,4,4,2,1],\n",
    "                    [0,1,2,2,1,0],\n",
    "                   ]\n",
    "labels = ['anger', 'disgust', 'fear', 'joy','neutral', 'sadness', 'surprise']"
   ]
  },
  {
   "cell_type": "code",
   "execution_count": 53,
   "metadata": {},
   "outputs": [],
   "source": [
    "def get_pixel(img, center, x, y):\n",
    "    new_value = 0\n",
    "    try:\n",
    "        if img[x][y] >= center:\n",
    "            new_value = 1\n",
    "    except:\n",
    "        pass\n",
    "    return new_value"
   ]
  },
  {
   "cell_type": "code",
   "execution_count": 54,
   "metadata": {},
   "outputs": [],
   "source": [
    "def lbp_calculated_pixel(img, x, y):\n",
    "    '''\n",
    "     64 | 128 |   1\n",
    "    ----------------\n",
    "     32 |   0 |   2\n",
    "    ----------------\n",
    "     16 |   8 |   4    \n",
    "    '''    \n",
    "    center = img[x][y]\n",
    "    val_ar = []\n",
    "    val_ar.append(get_pixel(img, center, x-1, y+1))     # top_right\n",
    "    val_ar.append(get_pixel(img, center, x, y+1))       # right\n",
    "    val_ar.append(get_pixel(img, center, x+1, y+1))     # bottom_right\n",
    "    val_ar.append(get_pixel(img, center, x+1, y))       # bottom\n",
    "    val_ar.append(get_pixel(img, center, x+1, y-1))     # bottom_left\n",
    "    val_ar.append(get_pixel(img, center, x, y-1))       # left\n",
    "    val_ar.append(get_pixel(img, center, x-1, y-1))     # top_left\n",
    "    val_ar.append(get_pixel(img, center, x-1, y))       # top\n",
    "    \n",
    "    power_val = [1, 2, 4, 8, 16, 32, 64, 128]\n",
    "    val = 0\n",
    "    for i in range(len(val_ar)):\n",
    "        val += val_ar[i] * power_val[i]\n",
    "    return val    "
   ]
  },
  {
   "cell_type": "code",
   "execution_count": 55,
   "metadata": {},
   "outputs": [],
   "source": [
    "def calculate_lphp_of_image(image):\n",
    "    im_hist = []\n",
    "    for i in range(0,height,35):\n",
    "        for j in range(0,width,35):\n",
    "            img = image[i:(i+35),j:(j+35)]\n",
    "            reg_hist = [0] * bins_number\n",
    "            for m in range (0,35):\n",
    "                for n in range(0,35):\n",
    "                    tempt = lbp_calculated_pixel(img, m, n)\n",
    "                    if lbph_bin.count(tempt) > 0:\n",
    "                        reg_hist[lbph_bin.index(tempt)] = reg_hist[lbph_bin.index(tempt)] + 1\n",
    "                    else:\n",
    "                        reg_hist[0] = reg_hist[0] + 1 \n",
    "            im_hist.extend(reg_hist)\n",
    "    return im_hist"
   ]
  },
  {
   "cell_type": "code",
   "execution_count": 50,
   "metadata": {},
   "outputs": [],
   "source": [
    "def chisquare_2lbph(lbph1, lbph2):\n",
    "    result = 0\n",
    "    for i in range (0,7):\n",
    "        for j in range(0,6):\n",
    "            if chisquare_weight[i][j] != 0:\n",
    "                s = lbph1[i*210+(j-1)*35:i*210+j*35]\n",
    "                m = lbph2[i*210+(j-1)*35:i*210+j*35]\n",
    "                num = np.subtract(s,m)\n",
    "                num = np.power(num,2)\n",
    "                den = np.add(s,m)\n",
    "                den = np.where(den == 0, 1, den)\n",
    "        result = result + np.sum(chisquare_weight[i][j] * (np.divide(num,den)))\n",
    "    return result"
   ]
  },
  {
   "cell_type": "code",
   "execution_count": 56,
   "metadata": {},
   "outputs": [],
   "source": [
    "def get_list_lbph_tag():\n",
    "    entries = os.listdir('data/')\n",
    "    result = []\n",
    "    tags = []\n",
    "    print(entries)\n",
    "    i = 0\n",
    "    for entry in entries:\n",
    "        for image_path in os.listdir('data/'+entry+\"/\"):\n",
    "            img_bgr = cv2.imread('data/'+ entry +'/'+image_path)\n",
    "            img_gray = cv2.cvtColor(img_bgr, cv2.COLOR_BGR2GRAY)\n",
    "            height,width = img_gray.shape\n",
    "            result.append(calculate_lphp_of_image(img_gray))\n",
    "            tags.append(i)\n",
    "        i = i + 1\n",
    "    return result,tags"
   ]
  },
  {
   "cell_type": "code",
   "execution_count": 57,
   "metadata": {},
   "outputs": [
    {
     "name": "stdout",
     "output_type": "stream",
     "text": [
      "['anger', 'disgust', 'fear', 'joy', 'neutral', 'sadness', 'surprise']\n"
     ]
    }
   ],
   "source": [
    "lbph_list, tags = get_list_lbph_tag()"
   ]
  },
  {
   "cell_type": "code",
   "execution_count": 58,
   "metadata": {},
   "outputs": [
    {
     "name": "stdout",
     "output_type": "stream",
     "text": [
      "[[0, 0, 0, 0, 0, 0, 1, 1, 1, 1, 1, 1, 2, 2, 2, 2, 2, 2, 3, 3, 3, 3, 3, 3, 4, 4, 4, 4, 4, 4, 5, 5, 5, 5, 5, 5, 6, 6, 6, 6, 6, 6], [0, 0, 0, 0, 0, 0, 1, 1, 1, 1, 1, 1, 2, 2, 2, 2, 2, 2, 3, 3, 3, 3, 3, 3, 4, 4, 4, 4, 4, 4, 5, 5, 5, 5, 5, 5, 6, 6, 6, 6, 6, 6], [0, 0, 0, 0, 0, 0, 1, 1, 1, 1, 1, 1, 2, 2, 2, 2, 2, 2, 3, 3, 3, 3, 3, 3, 4, 4, 4, 4, 4, 4, 5, 5, 5, 5, 5, 5, 6, 6, 6, 6, 6, 6], [0, 0, 0, 0, 0, 0, 1, 1, 1, 1, 1, 1, 2, 2, 2, 2, 2, 2, 3, 3, 3, 3, 3, 3, 4, 4, 4, 4, 4, 4, 5, 5, 5, 5, 5, 5, 6, 6, 6, 6, 6, 6], [0, 0, 0, 0, 0, 0, 1, 1, 1, 1, 1, 1, 2, 2, 2, 2, 2, 2, 3, 3, 3, 3, 3, 3, 4, 4, 4, 4, 4, 4, 5, 5, 5, 5, 5, 5, 6, 6, 6, 6, 6, 6], [0, 0, 0, 0, 0, 0, 1, 1, 1, 1, 1, 1, 2, 2, 2, 2, 2, 2, 3, 3, 3, 3, 3, 3, 4, 4, 4, 4, 4, 4, 5, 5, 5, 5, 5, 5, 6, 6, 6, 6, 6, 6], [0, 0, 0, 0, 0, 0, 1, 1, 1, 1, 1, 1, 2, 2, 2, 2, 2, 2, 3, 3, 3, 3, 3, 3, 4, 4, 4, 4, 4, 4, 5, 5, 5, 5, 5, 5, 6, 6, 6, 6, 6, 6], [0, 0, 0, 0, 0, 0, 1, 1, 1, 1, 1, 1, 2, 2, 2, 2, 2, 2, 3, 3, 3, 3, 3, 3, 4, 4, 4, 4, 4, 4, 5, 5, 5, 5, 5, 5, 6, 6, 6, 6, 6, 6], [0, 0, 0, 0, 0, 0, 1, 1, 1, 1, 1, 1, 2, 2, 2, 2, 2, 2, 3, 3, 3, 3, 3, 3, 4, 4, 4, 4, 4, 4, 5, 5, 5, 5, 5, 5, 6, 6, 6, 6, 6, 6], [0, 0, 0, 0, 0, 0, 1, 1, 1, 1, 1, 1, 2, 2, 2, 2, 2, 2, 3, 3, 3, 3, 3, 3, 4, 4, 4, 4, 4, 4, 5, 5, 5, 5, 5, 5, 6, 6, 6, 6, 6, 6]]\n"
     ]
    }
   ],
   "source": [
    "tags_list = []\n",
    "lbphs_list = []\n",
    "for i in range (0, 10):\n",
    "    j = i * 6\n",
    "    tempt = []\n",
    "    tempt1 = []\n",
    "    for m in range(0,7):\n",
    "        tempt.extend(tags[j:j+6])\n",
    "        tempt1.extend(lbph_list[j:j+6])\n",
    "        j = j + 60\n",
    "    tags_list.append(tempt)\n",
    "    lbphs_list.append(tempt1)"
   ]
  },
  {
   "cell_type": "code",
   "execution_count": 62,
   "metadata": {},
   "outputs": [
    {
     "name": "stdout",
     "output_type": "stream",
     "text": [
      "TRAIN: [1 2 3 4 5 6 7 8 9] TEST: [0]\n",
      "PRECISION: 0.3333333333333333\n",
      "TRAIN: [0 2 3 4 5 6 7 8 9] TEST: [1]\n",
      "PRECISION: 0.2619047619047619\n",
      "TRAIN: [0 1 3 4 5 6 7 8 9] TEST: [2]\n",
      "PRECISION: 0.21428571428571427\n",
      "TRAIN: [0 1 2 4 5 6 7 8 9] TEST: [3]\n",
      "PRECISION: 0.47619047619047616\n",
      "TRAIN: [0 1 2 3 5 6 7 8 9] TEST: [4]\n",
      "PRECISION: 0.19047619047619047\n",
      "TRAIN: [0 1 2 3 4 6 7 8 9] TEST: [5]\n",
      "PRECISION: 0.2857142857142857\n",
      "TRAIN: [0 1 2 3 4 5 7 8 9] TEST: [6]\n",
      "PRECISION: 0.35714285714285715\n",
      "TRAIN: [0 1 2 3 4 5 6 8 9] TEST: [7]\n",
      "PRECISION: 0.23809523809523808\n",
      "TRAIN: [0 1 2 3 4 5 6 7 9] TEST: [8]\n",
      "PRECISION: 0.38095238095238093\n",
      "TRAIN: [0 1 2 3 4 5 6 7 8] TEST: [9]\n",
      "PRECISION: 0.2857142857142857\n",
      "  \n",
      "AVERAGE PRECISION: 0.30238095238095236\n"
     ]
    }
   ],
   "source": [
    "kf = KFold(n_splits=10)\n",
    "total_precision = 0\n",
    "for train_index, test_index in kf.split(tags_list):\n",
    "    print(\"TRAIN:\", train_index, \"TEST:\", test_index)\n",
    "    lbphs_train = [[0]*lbph_length]*7\n",
    "    lbphs_test = lbphs_list[test_index[0]]\n",
    "    tag_test = tags_list[test_index[0]]\n",
    "    precision = 0\n",
    "    for i in train_index:\n",
    "        for j in range(0,7):\n",
    "            for m in range(j*6,j*6+6):\n",
    "                lbphs_train[j] = np.add(lbphs_train[j],lbphs_list[i][m])\n",
    "    for i in range(0,7):\n",
    "        lbphs_train[i] = np.divide(lbphs_train[i],54)\n",
    "    for i in range(0,42):\n",
    "        result = []\n",
    "        for j in range(0,7):\n",
    "            result.append(chisquare_2lbph(lbphs_test[i],lbphs_train[j]))\n",
    "        if result.index(min(result)) == tag_test[i]:\n",
    "            precision = precision + 1\n",
    "    total_precision = total_precision + precision/42\n",
    "    print(\"PRECISION:\",precision/42)\n",
    "print(\"  \")\n",
    "print(\"AVERAGE PRECISION:\",total_precision/10)"
   ]
  }
 ],
 "metadata": {
  "kernelspec": {
   "display_name": "Python 3",
   "language": "python",
   "name": "python3"
  },
  "language_info": {
   "codemirror_mode": {
    "name": "ipython",
    "version": 3
   },
   "file_extension": ".py",
   "mimetype": "text/x-python",
   "name": "python",
   "nbconvert_exporter": "python",
   "pygments_lexer": "ipython3",
   "version": "3.5.6"
  }
 },
 "nbformat": 4,
 "nbformat_minor": 2
}
